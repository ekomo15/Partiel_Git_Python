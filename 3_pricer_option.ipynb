{
 "cells": [
  {
   "cell_type": "markdown",
   "id": "fe8eaba0",
   "metadata": {},
   "source": [
    "# 3. Question Bonus : Implémentation de la formule Pricer d’option avec Python"
   ]
  },
  {
   "cell_type": "code",
   "execution_count": 16,
   "id": "080675f9",
   "metadata": {},
   "outputs": [],
   "source": [
    "def pricer(S,X,T,r,mu):\n",
    "    import math\n",
    "    import scipy.stats\n",
    "    from scipy.stats import norm\n",
    "    d1 = (math.log(S/X) + (r + (mu**2)/2)*T)/(mu*math.sqrt(T))\n",
    "    d2 = (math.log(S/X) + (r - (mu**2)/2)*T)/(mu*math.sqrt(T))\n",
    "    \n",
    "    c = S*norm.cdf(d1) - X*math.exp(-r*T)*norm.cdf(d2)\n",
    "    p = X*math.exp(-r*T)*norm.cdf(-d2) - S*norm.cdf(-d1) \n",
    "    return c,p"
   ]
  },
  {
   "cell_type": "code",
   "execution_count": 18,
   "id": "2b779eb6",
   "metadata": {},
   "outputs": [
    {
     "data": {
      "text/plain": [
       "(4727.846140131773, 1.035689398862816e-11)"
      ]
     },
     "execution_count": 18,
     "metadata": {},
     "output_type": "execute_result"
    }
   ],
   "source": [
    "pricer(5000,3000,4,0.6,0.2)"
   ]
  },
  {
   "cell_type": "code",
   "execution_count": null,
   "id": "e2b195a5",
   "metadata": {},
   "outputs": [],
   "source": []
  }
 ],
 "metadata": {
  "kernelspec": {
   "display_name": "Python 3",
   "language": "python",
   "name": "python3"
  },
  "language_info": {
   "codemirror_mode": {
    "name": "ipython",
    "version": 3
   },
   "file_extension": ".py",
   "mimetype": "text/x-python",
   "name": "python",
   "nbconvert_exporter": "python",
   "pygments_lexer": "ipython3",
   "version": "3.8.8"
  }
 },
 "nbformat": 4,
 "nbformat_minor": 5
}
