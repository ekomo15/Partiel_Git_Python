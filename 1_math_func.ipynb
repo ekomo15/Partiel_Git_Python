{
 "cells": [
  {
   "cell_type": "markdown",
   "id": "5685ea57",
   "metadata": {},
   "source": [
    "# 1. Création de fonction mathématique simple en Python (12 points) "
   ]
  },
  {
   "cell_type": "markdown",
   "id": "70dad6d5",
   "metadata": {},
   "source": [
    "### a) Implémenter la fonction polynomiale ci-dessous :"
   ]
  },
  {
   "cell_type": "code",
   "execution_count": 10,
   "id": "00f3e7a4",
   "metadata": {},
   "outputs": [],
   "source": [
    "def polygone(x):\n",
    "    return x**3 - 1.5*x**2 - 6*x + 5"
   ]
  },
  {
   "cell_type": "code",
   "execution_count": 11,
   "id": "5943a160",
   "metadata": {},
   "outputs": [
    {
     "data": {
      "text/plain": [
       "62.5"
      ]
     },
     "execution_count": 11,
     "metadata": {},
     "output_type": "execute_result"
    }
   ],
   "source": [
    "# test\n",
    "x=5\n",
    "polygone(x)"
   ]
  },
  {
   "cell_type": "markdown",
   "id": "6a6f53ea",
   "metadata": {},
   "source": [
    "### Implémenter la fonction factorielle (Approche récursive ou classique) :"
   ]
  },
  {
   "cell_type": "code",
   "execution_count": 62,
   "id": "d5872a5a",
   "metadata": {},
   "outputs": [],
   "source": [
    "def factorielle(n):\n",
    "    result = 1\n",
    "    if n==0:\n",
    "        return 1\n",
    "    elif n>=1:\n",
    "        for i in range(1,n+1):\n",
    "            result = result*i\n",
    "        return result"
   ]
  },
  {
   "cell_type": "code",
   "execution_count": 63,
   "id": "944194e8",
   "metadata": {},
   "outputs": [
    {
     "data": {
      "text/plain": [
       "120"
      ]
     },
     "execution_count": 63,
     "metadata": {},
     "output_type": "execute_result"
    }
   ],
   "source": [
    "#test\n",
    "n=5\n",
    "factorielle(n)"
   ]
  },
  {
   "cell_type": "markdown",
   "id": "9b1dedd8",
   "metadata": {},
   "source": [
    "### c) Implémenter la suite de Fibonnaci"
   ]
  },
  {
   "cell_type": "code",
   "execution_count": 58,
   "id": "a2aa30ab",
   "metadata": {},
   "outputs": [],
   "source": [
    "def fibonacci(n):\n",
    "    fib = [0,1]\n",
    "    for i in range(2,n):\n",
    "        fib.append(fib[i-1] + fib[i-2] )\n",
    "    return fib"
   ]
  },
  {
   "cell_type": "code",
   "execution_count": 59,
   "id": "90095051",
   "metadata": {},
   "outputs": [
    {
     "data": {
      "text/plain": [
       "[0, 1, 1, 2, 3, 5]"
      ]
     },
     "execution_count": 59,
     "metadata": {},
     "output_type": "execute_result"
    }
   ],
   "source": [
    "fibonacci(6)"
   ]
  }
 ],
 "metadata": {
  "kernelspec": {
   "display_name": "Python 3",
   "language": "python",
   "name": "python3"
  },
  "language_info": {
   "codemirror_mode": {
    "name": "ipython",
    "version": 3
   },
   "file_extension": ".py",
   "mimetype": "text/x-python",
   "name": "python",
   "nbconvert_exporter": "python",
   "pygments_lexer": "ipython3",
   "version": "3.8.8"
  }
 },
 "nbformat": 4,
 "nbformat_minor": 5
}
